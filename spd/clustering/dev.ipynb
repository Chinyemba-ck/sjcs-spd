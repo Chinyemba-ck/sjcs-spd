{
 "cells": [
  {
   "cell_type": "code",
   "execution_count": 46,
   "metadata": {},
   "outputs": [],
   "source": [
    "from typing import cast\n",
    "\n",
    "import torch\n",
    "from jaxtyping import Float, Int\n",
    "from torch import Tensor\n",
    "from torch.utils.data import DataLoader\n",
    "\n",
    "from muutils.dbg import dbg, dbg_tensor, dbg_auto\n",
    "\n",
    "from spd.experiments.resid_mlp.resid_mlp_dataset import ResidualMLPDataset\n",
    "from spd.models.component_model import ComponentModel\n",
    "from spd.models.components import EmbeddingComponent, GateMLP, LinearComponent, VectorGateMLP\n",
    "from spd.utils.component_utils import calc_causal_importances\n",
    "from spd.utils.data_utils import DatasetGeneratedDataLoader\n",
    "from spd.utils.general_utils import extract_batch_data\n",
    "\n",
    "DEVICE: str = \"cuda\" if torch.cuda.is_available() else \"cpu\"\n"
   ]
  },
  {
   "cell_type": "code",
   "execution_count": 33,
   "metadata": {},
   "outputs": [
    {
     "name": "stderr",
     "output_type": "stream",
     "text": [
      "Downloaded checkpoint from /home/miv/projects/MATS/spd/wandb/5mk5h1lk/files/resid_mlp.pth\n"
     ]
    }
   ],
   "source": [
    "component_model, cfg, path = ComponentModel.from_pretrained(\"wandb:goodfire/spd/runs/dcjm9g2n\")\n",
    "component_model.to(DEVICE);\n",
    "# dbg_auto(component_model)\n",
    "# dbg_auto(cfg)\n",
    "# dbg_auto(path)\n",
    "# dir(component_model)"
   ]
  },
  {
   "cell_type": "code",
   "execution_count": 34,
   "metadata": {},
   "outputs": [],
   "source": [
    "\n",
    "# grep_repr((component_model, cfg, path, dir(component_model)), \"_features\")\n",
    "# cfg.task_config\n",
    "# grep_repr(, \"_features\")"
   ]
  },
  {
   "cell_type": "code",
   "execution_count": 43,
   "metadata": {},
   "outputs": [],
   "source": [
    "N_SAMPLES: int = 1000\n",
    "\n",
    "dataset = ResidualMLPDataset(\n",
    "    n_features=component_model.model.config.n_features,\n",
    "    feature_probability=cfg.task_config.feature_probability,\n",
    "    device=DEVICE,\n",
    "    calc_labels=False,  # Our labels will be the output of the target model\n",
    "    label_type=None,\n",
    "    act_fn_name=None,\n",
    "    label_fn_seed=None,\n",
    "    label_coeffs=None,\n",
    "    data_generation_type=cfg.task_config.data_generation_type,\n",
    "    # synced_inputs=synced_inputs,\n",
    ")\n",
    "\n",
    "dataloader = DatasetGeneratedDataLoader(dataset, batch_size=N_SAMPLES, shuffle=False)\n"
   ]
  },
  {
   "cell_type": "code",
   "execution_count": 51,
   "metadata": {},
   "outputs": [
    {
     "name": "stderr",
     "output_type": "stream",
     "text": [
      "[ <ipykernel>:45 ] ci: <dict of len()=2, key_types={str}, val_types={Tensor}>\n",
      "  layers.0.mlp_in: μ=\u001b[36m0.01\u001b[0m σ=\u001b[33m0.09\u001b[0m x̃=\u001b[32m0.00\u001b[0m R=[\u001b[35m0.00\u001b[0m,\u001b[35m1.00\u001b[0m] ℙ˪=|\u001b[34m█▂▂▃▂▄▅\u001b[0m| shape=(\u001b[95m1000\u001b[0m,\u001b[95m100\u001b[0m) dtype=\u001b[38;5;208mtorch\u001b[0m.\u001b[38;5;167mfloat32\u001b[0m device=\u001b[38;5;76mcuda:0\u001b[0m \u001b[90m∇✓\u001b[0m\n",
      "  layers.0.mlp_out: μ=\u001b[36m0.06\u001b[0m σ=\u001b[33m0.18\u001b[0m x̃=\u001b[32m0.00\u001b[0m R=[\u001b[35m0.00\u001b[0m,\u001b[35m1.00\u001b[0m] ℙ˪=|\u001b[34m█▅▅▅▅▅▅\u001b[0m| shape=(\u001b[95m1000\u001b[0m,\u001b[95m100\u001b[0m) dtype=\u001b[38;5;208mtorch\u001b[0m.\u001b[38;5;167mfloat32\u001b[0m device=\u001b[38;5;76mcuda:0\u001b[0m \u001b[90m∇✓\u001b[0m\n"
     ]
    }
   ],
   "source": [
    "\n",
    "def component_activations(\n",
    "    model: ComponentModel,\n",
    "    dataloader: DataLoader[Int[Tensor, \"...\"]]\n",
    "    | DataLoader[tuple[Float[Tensor, \"...\"], Float[Tensor, \"...\"]]],\n",
    "    device: str,\n",
    ") -> dict[str, Float[Tensor, \" C n_steps\"]]:\n",
    "    \"\"\"Get the number and strength of the masks over the full dataset.\"\"\"\n",
    "    # We used \"-\" instead of \".\" as module names can't have \".\" in them\n",
    "    gates: dict[str, GateMLP | VectorGateMLP] = {\n",
    "        k.removeprefix(\"gates.\").replace(\"-\", \".\"): cast(GateMLP | VectorGateMLP, v)\n",
    "        for k, v in model.gates.items()\n",
    "    }\n",
    "    components: dict[str, LinearComponent | EmbeddingComponent] = {\n",
    "        k.removeprefix(\"components.\").replace(\"-\", \".\"): cast(\n",
    "            LinearComponent | EmbeddingComponent, v\n",
    "        )\n",
    "        for k, v in model.components.items()\n",
    "    }\n",
    "\n",
    "    # --- Get Batch --- #\n",
    "    batch = extract_batch_data(next(iter(dataloader)))\n",
    "    batch = batch.to(device)\n",
    "\n",
    "    _, pre_weight_acts = model.forward_with_pre_forward_cache_hooks(\n",
    "        batch, module_names=list(components.keys())\n",
    "    )\n",
    "    Vs = {module_name: v.V for module_name, v in components.items()}\n",
    "\n",
    "    causal_importances, _ = calc_causal_importances(\n",
    "        pre_weight_acts=pre_weight_acts,\n",
    "        Vs=Vs,\n",
    "        gates=gates,\n",
    "        detach_inputs=False,\n",
    "    )\n",
    "\n",
    "    return causal_importances\n",
    "\n",
    "ci = component_activations(\n",
    "\tcomponent_model,\n",
    "\tdataloader,\n",
    "\tdevice=DEVICE,\n",
    "\t# threshold=0.1,\n",
    ")\n",
    "\n",
    "dbg_auto(ci);"
   ]
  }
 ],
 "metadata": {
  "kernelspec": {
   "display_name": ".venv",
   "language": "python",
   "name": "python3"
  },
  "language_info": {
   "codemirror_mode": {
    "name": "ipython",
    "version": 3
   },
   "file_extension": ".py",
   "mimetype": "text/x-python",
   "name": "python",
   "nbconvert_exporter": "python",
   "pygments_lexer": "ipython3",
   "version": "3.13.2"
  }
 },
 "nbformat": 4,
 "nbformat_minor": 2
}
