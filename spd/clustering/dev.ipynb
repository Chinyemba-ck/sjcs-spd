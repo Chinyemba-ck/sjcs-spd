{
 "cells": [
  {
   "cell_type": "code",
   "execution_count": null,
   "metadata": {},
   "outputs": [],
   "source": [
    "\n",
    "import matplotlib.pyplot as plt\n",
    "import torch\n",
    "from muutils.dbg import dbg_auto\n",
    "\n",
    "from spd.clustering.activations import component_activations, process_activations\n",
    "from spd.clustering.merge import compute_merge_costs, merge_iteration\n",
    "from spd.clustering.merge_matrix import GroupMerge\n",
    "from spd.experiments.resid_mlp.resid_mlp_dataset import ResidualMLPDataset\n",
    "from spd.models.component_model import ComponentModel\n",
    "from spd.utils.data_utils import DatasetGeneratedDataLoader\n",
    "\n",
    "DEVICE: str = \"cuda\" if torch.cuda.is_available() else \"cpu\"\n"
   ]
  },
  {
   "cell_type": "code",
   "execution_count": null,
   "metadata": {},
   "outputs": [],
   "source": [
    "component_model, cfg, path = ComponentModel.from_pretrained(\"wandb:goodfire/spd/runs/dcjm9g2n\")\n",
    "component_model.to(DEVICE);\n",
    "# dbg_auto(component_model)\n",
    "# dbg_auto(cfg)\n",
    "# dbg_auto(path)\n",
    "# dir(component_model)"
   ]
  },
  {
   "cell_type": "code",
   "execution_count": null,
   "metadata": {},
   "outputs": [],
   "source": [
    "\n",
    "# grep_repr((component_model, cfg, path, dir(component_model)), \"_features\")\n",
    "# cfg.task_config\n",
    "# grep_repr(, \"_features\")"
   ]
  },
  {
   "cell_type": "code",
   "execution_count": null,
   "metadata": {},
   "outputs": [],
   "source": [
    "N_SAMPLES: int = 1000\n",
    "\n",
    "dataset = ResidualMLPDataset(\n",
    "    n_features=component_model.model.config.n_features,\n",
    "    feature_probability=cfg.task_config.feature_probability,\n",
    "    device=DEVICE,\n",
    "    calc_labels=False,  # Our labels will be the output of the target model\n",
    "    label_type=None,\n",
    "    act_fn_name=None,\n",
    "    label_fn_seed=None,\n",
    "    label_coeffs=None,\n",
    "    data_generation_type=cfg.task_config.data_generation_type,\n",
    "    # synced_inputs=synced_inputs,\n",
    ")\n",
    "\n",
    "dataloader = DatasetGeneratedDataLoader(dataset, batch_size=N_SAMPLES, shuffle=False)\n"
   ]
  },
  {
   "cell_type": "code",
   "execution_count": null,
   "metadata": {},
   "outputs": [],
   "source": [
    "ci = component_activations(\n",
    "\tcomponent_model,\n",
    "\tdataloader,\n",
    "\tdevice=DEVICE,\n",
    "\t# threshold=0.1,\n",
    ")\n",
    "\n",
    "dbg_auto(ci);"
   ]
  },
  {
   "cell_type": "code",
   "execution_count": null,
   "metadata": {},
   "outputs": [],
   "source": [
    "coa = process_activations(\n",
    "\tci,\n",
    "\tfilter_dead_threshold=0.1,\n",
    "\tplots=True,\n",
    ");"
   ]
  },
  {
   "cell_type": "code",
   "execution_count": null,
   "metadata": {},
   "outputs": [],
   "source": [
    "gm_ident = GroupMerge.identity(n_components=coa[\"n_components_alive\"])\n",
    "\t\t\t\n",
    "gm_ident.plot(figsize=(10, 2))"
   ]
  },
  {
   "cell_type": "markdown",
   "metadata": {},
   "source": [
    "$$\n",
    "\tF_g := \\frac{\\alpha}{n}\n",
    "\t\\Bigg[\n",
    "\t\td(A(g)) \\cdot Q^T \n",
    "\t\t+ Q \\cdot d(A(g))^T\n",
    "\t\t- \\Big(\n",
    "\t\t\tR \\mathbf{1}^T\n",
    "\t\t\t+ \\mathbf{1} R^T + \\alpha^{-1}\n",
    "\t\t\\Big) \n",
    "\t\t\\odot A(g)\n",
    "\t\\Bigg]\n",
    "$$"
   ]
  },
  {
   "cell_type": "code",
   "execution_count": null,
   "metadata": {},
   "outputs": [],
   "source": [
    "costs = compute_merge_costs(\n",
    "\tcoact=coa['coactivations'],\n",
    "\tmerges=gm_ident,\n",
    ")\n",
    "plt.matshow(costs.cpu(), cmap='viridis')\n",
    "plt.colorbar()"
   ]
  },
  {
   "cell_type": "code",
   "execution_count": null,
   "metadata": {},
   "outputs": [],
   "source": [
    "\n",
    "coact_bool = coa['coactivations'] > 0.002\n",
    "merge_iteration(\n",
    "\tcoact=coact_bool.float().T @ coact_bool.float(),\n",
    "\tactivation_mask=coact_bool,\n",
    "\tcheck_threshold=0.1,\n",
    "\t# initial_merge=?,\n",
    "\t# alpha=0.001,\n",
    "\trank_cost=lambda _: 1e-1,\n",
    "\talpha=1e-1,\n",
    "\titers=100,\n",
    "\tplot_every=10,\n",
    "\tplot_every_min=0,\n",
    "\t# plot_every=None,\n",
    ")"
   ]
  }
 ],
 "metadata": {
  "kernelspec": {
   "display_name": ".venv",
   "language": "python",
   "name": "python3"
  },
  "language_info": {
   "codemirror_mode": {
    "name": "ipython",
    "version": 3
   },
   "file_extension": ".py",
   "mimetype": "text/x-python",
   "name": "python",
   "nbconvert_exporter": "python",
   "pygments_lexer": "ipython3",
   "version": "3.13.2"
  }
 },
 "nbformat": 4,
 "nbformat_minor": 2
}
